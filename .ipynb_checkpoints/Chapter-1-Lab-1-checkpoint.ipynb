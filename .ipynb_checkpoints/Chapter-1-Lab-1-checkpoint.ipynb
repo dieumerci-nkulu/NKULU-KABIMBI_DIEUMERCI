{
 "cells": [
  {
   "cell_type": "markdown",
   "id": "4c712892-344a-458b-b1db-64ad7ed17753",
   "metadata": {},
   "source": [
    "# A. IMPORTATION DE LIBRARIS"
   ]
  },
  {
   "cell_type": "code",
   "execution_count": 10,
   "id": "6f86de0d-c97f-4be7-af10-43fe42380e3e",
   "metadata": {},
   "outputs": [],
   "source": [
    "# Importation de libraries"
   ]
  },
  {
   "cell_type": "code",
   "execution_count": 2,
   "id": "4e36a8d3-a163-444e-8c69-fd91886730b6",
   "metadata": {},
   "outputs": [],
   "source": [
    "import numpy as np"
   ]
  },
  {
   "cell_type": "markdown",
   "id": "5aa10908-10ee-4f76-a969-8581e2dad36e",
   "metadata": {},
   "source": [
    "# 1. Tableau"
   ]
  },
  {
   "cell_type": "markdown",
   "id": "eaffdafc-5218-4e7f-a248-6f4730e79da0",
   "metadata": {
    "editable": true,
    "slideshow": {
     "slide_type": ""
    },
    "tags": []
   },
   "source": [
    "## 1.1 Tableau a 1 D"
   ]
  },
  {
   "cell_type": "code",
   "execution_count": 11,
   "id": "c7920225-320e-4cd7-913c-5ed360b3e593",
   "metadata": {},
   "outputs": [],
   "source": [
    "# Creation d'un tableau a 1D\n",
    "tab_1D = np.array([2, 4, 6, 8, 10, 12, 14])"
   ]
  },
  {
   "cell_type": "code",
   "execution_count": 12,
   "id": "67f08704-0dfa-48d8-b26d-05c8576cbf19",
   "metadata": {},
   "outputs": [
    {
     "data": {
      "text/plain": [
       "array([ 2,  4,  6,  8, 10, 12, 14])"
      ]
     },
     "execution_count": 12,
     "metadata": {},
     "output_type": "execute_result"
    }
   ],
   "source": [
    "tab_1D"
   ]
  },
  {
   "cell_type": "code",
   "execution_count": 13,
   "id": "87791daf-9c85-465e-962d-9658686de11b",
   "metadata": {},
   "outputs": [
    {
     "name": "stdout",
     "output_type": "stream",
     "text": [
      "[ 2  4  6  8 10 12 14]\n"
     ]
    }
   ],
   "source": [
    "print(tab_1D)"
   ]
  },
  {
   "cell_type": "code",
   "execution_count": 14,
   "id": "6615eea7-bae2-42d6-b33d-53eb729e4dc7",
   "metadata": {},
   "outputs": [
    {
     "name": "stdout",
     "output_type": "stream",
     "text": [
      "(7,)\n"
     ]
    }
   ],
   "source": [
    "print(tab_1D.shape)"
   ]
  },
  {
   "cell_type": "code",
   "execution_count": 15,
   "id": "9881342b-03ff-48d6-a029-24f565165b36",
   "metadata": {},
   "outputs": [
    {
     "data": {
      "text/plain": [
       "numpy.ndarray"
      ]
     },
     "execution_count": 15,
     "metadata": {},
     "output_type": "execute_result"
    }
   ],
   "source": [
    "type(tab_1D)"
   ]
  },
  {
   "cell_type": "code",
   "execution_count": 16,
   "id": "21dfafc5-8bd6-4d90-9b2a-8b5897565022",
   "metadata": {},
   "outputs": [
    {
     "name": "stdout",
     "output_type": "stream",
     "text": [
      "Dimension du Tableau (7,)\n",
      "Type du Tableau <class 'numpy.ndarray'>\n",
      "Voici le Tableau: [ 2  4  6  8 10 12 14]\n"
     ]
    }
   ],
   "source": [
    "print(\"Dimension du Tableau\", tab_1D.shape)\n",
    "print(\"Type du Tableau\", type(tab_1D))\n",
    "print(\"Voici le Tableau:\", tab_1D)"
   ]
  },
  {
   "cell_type": "markdown",
   "id": "136a4ffa-8d5b-471d-8864-a223ef55bb49",
   "metadata": {},
   "source": [
    "## 1.2 Tableau 2D"
   ]
  },
  {
   "cell_type": "code",
   "execution_count": 23,
   "id": "dd527e95-7d17-4fb0-b939-06941ca42446",
   "metadata": {},
   "outputs": [],
   "source": [
    "# Creation d'un tableau a 2D\n",
    "tab_2D = np.array([\n",
    "    [1, 3, 5, 7, 8],\n",
    "    [11, 33, 55, 77, 88],\n",
    "    [10, 30, 50, 70, 80]\n",
    "])"
   ]
  },
  {
   "cell_type": "code",
   "execution_count": 24,
   "id": "5f562c63-3065-4823-8ed5-1b10a307c492",
   "metadata": {},
   "outputs": [
    {
     "name": "stdout",
     "output_type": "stream",
     "text": [
      "Dimension du Tableau (3, 5)\n",
      "Type du Tableau <class 'numpy.ndarray'>\n",
      "[[ 1  3  5  7  8]\n",
      " [11 33 55 77 88]\n",
      " [10 30 50 70 80]]\n"
     ]
    }
   ],
   "source": [
    "print(\"Dimension du Tableau\", tab_2D.shape)\n",
    "print(\"Type du Tableau\", type(tab_2D))\n",
    "print(tab_2D)"
   ]
  },
  {
   "cell_type": "markdown",
   "id": "c1c68294-f69a-4238-938c-2b992463eabb",
   "metadata": {},
   "source": [
    "## 1.3 Tableau 3D"
   ]
  },
  {
   "cell_type": "code",
   "execution_count": 32,
   "id": "6d188e33-2af1-4a7f-b843-f06bab1f359c",
   "metadata": {},
   "outputs": [],
   "source": [
    "# Creation d'un tableeau 3D\n",
    "tab_3D = np.array([[\n",
    "    [11, 9, 7, 5, 3, 1],\n",
    "    [110, 90, 70, 50, 30, 10],\n",
    "    [115, 95, 75, 55, 35, 15],\n",
    "    [1100, 900, 700, 500, 300, 100],\n",
    "]])"
   ]
  },
  {
   "cell_type": "code",
   "execution_count": 33,
   "id": "75723b5d-7870-43df-8de7-1ed2372970e3",
   "metadata": {},
   "outputs": [
    {
     "name": "stdout",
     "output_type": "stream",
     "text": [
      "Dimension du Tableau (1, 4, 6)\n",
      "Type du Tableau <class 'numpy.ndarray'>\n",
      "[[[  11    9    7    5    3    1]\n",
      "  [ 110   90   70   50   30   10]\n",
      "  [ 115   95   75   55   35   15]\n",
      "  [1100  900  700  500  300  100]]]\n"
     ]
    }
   ],
   "source": [
    "print(\"Dimension du Tableau\", tab_3D.shape)\n",
    "print(\"Type du Tableau\", type(tab_3D))\n",
    "print(tab_3D)"
   ]
  },
  {
   "cell_type": "markdown",
   "id": "ec6cfc5d-36a9-472d-a939-7e2a2b5f98bd",
   "metadata": {},
   "source": [
    "## 1.4 Tableau a 4D"
   ]
  },
  {
   "cell_type": "code",
   "execution_count": 38,
   "id": "c64fc98d-1d12-458b-b012-6de3607bc7d2",
   "metadata": {},
   "outputs": [],
   "source": [
    "# Creation d'un Tableau a 4D\n",
    "tab_4D = np.array([[[\n",
    "    [2, 4, 6, 8, 10],\n",
    "    [25, 45, 65, 85, 105],\n",
    "    [20, 40, 60, 80, 100],\n",
    "]]])"
   ]
  },
  {
   "cell_type": "code",
   "execution_count": 39,
   "id": "5f9119b2-97fe-4ab2-8d44-84be1d3c298f",
   "metadata": {},
   "outputs": [
    {
     "name": "stdout",
     "output_type": "stream",
     "text": [
      "Dimension du Tableau (1, 1, 3, 5)\n",
      "Type du Tableau <class 'numpy.ndarray'>\n",
      "[[[[  2   4   6   8  10]\n",
      "   [ 25  45  65  85 105]\n",
      "   [ 20  40  60  80 100]]]]\n"
     ]
    }
   ],
   "source": [
    "print(\"Dimension du Tableau\", tab_4D.shape)\n",
    "print(\"Type du Tableau\", type(tab_4D))\n",
    "print(tab_4D)"
   ]
  },
  {
   "cell_type": "markdown",
   "id": "da24f735-bc25-4364-93be-cbd644202ef7",
   "metadata": {},
   "source": [
    "# B. OPERATIONS"
   ]
  },
  {
   "cell_type": "code",
   "execution_count": 3,
   "id": "07a3e8ba-2316-4984-bf9a-de8895b46384",
   "metadata": {},
   "outputs": [],
   "source": [
    "# creation matrice\n",
    "a = np.array([[2,4,6,8],\n",
    "              [25,45,65,85],\n",
    "             ])\n",
    "b = np.array([[20,40,60,80],\n",
    "              [250,450,600,850],\n",
    "             ])"
   ]
  },
  {
   "cell_type": "code",
   "execution_count": 4,
   "id": "e06311b5-a990-485d-ae59-9df32aff7419",
   "metadata": {},
   "outputs": [
    {
     "name": "stdout",
     "output_type": "stream",
     "text": [
      "(2, 4)\n",
      "[[ 2  4  6  8]\n",
      " [25 45 65 85]]\n",
      "(2, 4)\n",
      "[[ 20  40  60  80]\n",
      " [250 450 600 850]]\n"
     ]
    }
   ],
   "source": [
    "print(a.shape)\n",
    "print(a)\n",
    "print(b.shape)\n",
    "print(b)"
   ]
  },
  {
   "cell_type": "code",
   "execution_count": 5,
   "id": "30cc53ff-a22f-4895-9e46-8d87071cf3d2",
   "metadata": {},
   "outputs": [
    {
     "name": "stdout",
     "output_type": "stream",
     "text": [
      "[[ 22  44  66  88]\n",
      " [275 495 665 935]]\n"
     ]
    }
   ],
   "source": [
    "# Addition\n",
    "add = a+b\n",
    "print(add)"
   ]
  },
  {
   "cell_type": "code",
   "execution_count": 6,
   "id": "3ff6c392-904a-4b5d-8ac9-e76bd12de6d9",
   "metadata": {},
   "outputs": [
    {
     "name": "stdout",
     "output_type": "stream",
     "text": [
      "[[ -18  -36  -54  -72]\n",
      " [-225 -405 -535 -765]]\n"
     ]
    }
   ],
   "source": [
    "# soustraction\n",
    "print( a-b )"
   ]
  },
  {
   "cell_type": "code",
   "execution_count": 7,
   "id": "304646cf-3fd8-41e6-ae96-6186fe42e6ff",
   "metadata": {},
   "outputs": [
    {
     "name": "stdout",
     "output_type": "stream",
     "text": [
      "[[   40   160   360   640]\n",
      " [ 6250 20250 39000 72250]]\n"
     ]
    }
   ],
   "source": [
    "# multiplication\n",
    "print ( a*b )"
   ]
  },
  {
   "cell_type": "code",
   "execution_count": 8,
   "id": "08ea4869-49c3-4c36-b3a4-4f7d94a7c00d",
   "metadata": {},
   "outputs": [
    {
     "name": "stdout",
     "output_type": "stream",
     "text": [
      "[[0.1        0.1        0.1        0.1       ]\n",
      " [0.1        0.1        0.10833333 0.1       ]]\n"
     ]
    }
   ],
   "source": [
    "# division \n",
    "print( a/b )"
   ]
  },
  {
   "cell_type": "markdown",
   "id": "767704eb-0f51-4bf0-a4d2-58b53862a9a0",
   "metadata": {},
   "source": [
    "# C MANIPULATION"
   ]
  },
  {
   "cell_type": "code",
   "execution_count": 9,
   "id": "0c0a6864-140a-4b01-bbee-a54ed05bbce6",
   "metadata": {},
   "outputs": [],
   "source": [
    "# creation d'un dictionnaire\n",
    "info_Etudiants = {\n",
    "    'Matricule' : '20221235554',\n",
    "    'Nom' : 'KASONGO',\n",
    "    'Prenom' : 'David',\n",
    "    'Age' : 23,\n",
    "    'GPA': 'A'} "
   ]
  },
  {
   "cell_type": "code",
   "execution_count": 10,
   "id": "3e150a83-0b92-4462-8467-abf5cdebaac7",
   "metadata": {},
   "outputs": [
    {
     "data": {
      "text/plain": [
       "{'Matricule': '20221235554',\n",
       " 'Nom': 'KASONGO',\n",
       " 'Prenom': 'David',\n",
       " 'Age': 23,\n",
       " 'GPA': 'A'}"
      ]
     },
     "execution_count": 10,
     "metadata": {},
     "output_type": "execute_result"
    }
   ],
   "source": [
    "info_Etudiants"
   ]
  },
  {
   "cell_type": "code",
   "execution_count": 11,
   "id": "a7082707-f1b6-48e8-9c31-0e5ea8bb778d",
   "metadata": {},
   "outputs": [
    {
     "name": "stdout",
     "output_type": "stream",
     "text": [
      "{'Matricule': '20221235554', 'Nom': 'KASONGO', 'Prenom': 'David', 'Age': 23, 'GPA': 'A'}\n"
     ]
    },
    {
     "data": {
      "text/plain": [
       "{'Matricule': '20221235554',\n",
       " 'Nom': 'KASONGO',\n",
       " 'Prenom': 'David',\n",
       " 'Age': 23,\n",
       " 'GPA': 'A'}"
      ]
     },
     "execution_count": 11,
     "metadata": {},
     "output_type": "execute_result"
    }
   ],
   "source": [
    "print(info_Etudiants)\n",
    "{'Matricule': '20221235554', 'Nom': 'KASONGO', 'Prenom':'David', 'Age': 23, 'GPA': 'A'}"
   ]
  },
  {
   "cell_type": "code",
   "execution_count": 12,
   "id": "2c9e30b6-e15a-4dd1-b8d1-0ce2aa249cd9",
   "metadata": {},
   "outputs": [],
   "source": [
    "INFO_etudiant_bac3 ={\n",
    "    'matricule' : ['202205533', '255222001', '23122522511', '255533333', '255566666'],\n",
    "    'Nom' : ['NKULU','KABOLE','MUKUNA','BINENE','TSHIENSE'],\n",
    "    'Prenom' : ['Dieumerci', 'David', 'Ben', 'Felly', 'Chris'],\n",
    "    'Age' : [22, 21, 24, 23, 20],\n",
    "    'GPA' : ['A', 'B', 'C', 'D', 'E']\n",
    "}\n"
   ]
  },
  {
   "cell_type": "code",
   "execution_count": 13,
   "id": "a3c1cc6b-7b0e-4f0f-8329-46f0614f05b7",
   "metadata": {},
   "outputs": [
    {
     "name": "stdout",
     "output_type": "stream",
     "text": [
      "{'matricule': ['202205533', '255222001', '23122522511', '255533333', '255566666'], 'Nom': ['NKULU', 'KABOLE', 'MUKUNA', 'BINENE', 'TSHIENSE'], 'Prenom': ['Dieumerci', 'David', 'Ben', 'Felly', 'Chris'], 'Age': [22, 21, 24, 23, 20], 'GPA': ['A', 'B', 'C', 'D', 'E']}\n"
     ]
    }
   ],
   "source": [
    "print( INFO_etudiant_bac3)"
   ]
  },
  {
   "cell_type": "code",
   "execution_count": 14,
   "id": "87ce308b-9317-4af0-a156-b2b5afd6db94",
   "metadata": {},
   "outputs": [],
   "source": [
    "import pandas as pd"
   ]
  },
  {
   "cell_type": "code",
   "execution_count": 15,
   "id": "073de00b-ead8-4add-bb66-ad92229a01fa",
   "metadata": {},
   "outputs": [],
   "source": [
    "donnees_etudiants = pd.DataFrame(INFO_etudiant_bac3)"
   ]
  },
  {
   "cell_type": "code",
   "execution_count": 16,
   "id": "8b5d13fe-2f49-45c9-a320-6187c5b35b0d",
   "metadata": {},
   "outputs": [
    {
     "data": {
      "text/html": [
       "<div>\n",
       "<style scoped>\n",
       "    .dataframe tbody tr th:only-of-type {\n",
       "        vertical-align: middle;\n",
       "    }\n",
       "\n",
       "    .dataframe tbody tr th {\n",
       "        vertical-align: top;\n",
       "    }\n",
       "\n",
       "    .dataframe thead th {\n",
       "        text-align: right;\n",
       "    }\n",
       "</style>\n",
       "<table border=\"1\" class=\"dataframe\">\n",
       "  <thead>\n",
       "    <tr style=\"text-align: right;\">\n",
       "      <th></th>\n",
       "      <th>matricule</th>\n",
       "      <th>Nom</th>\n",
       "      <th>Prenom</th>\n",
       "      <th>Age</th>\n",
       "      <th>GPA</th>\n",
       "    </tr>\n",
       "  </thead>\n",
       "  <tbody>\n",
       "    <tr>\n",
       "      <th>0</th>\n",
       "      <td>202205533</td>\n",
       "      <td>NKULU</td>\n",
       "      <td>Dieumerci</td>\n",
       "      <td>22</td>\n",
       "      <td>A</td>\n",
       "    </tr>\n",
       "    <tr>\n",
       "      <th>1</th>\n",
       "      <td>255222001</td>\n",
       "      <td>KABOLE</td>\n",
       "      <td>David</td>\n",
       "      <td>21</td>\n",
       "      <td>B</td>\n",
       "    </tr>\n",
       "    <tr>\n",
       "      <th>2</th>\n",
       "      <td>23122522511</td>\n",
       "      <td>MUKUNA</td>\n",
       "      <td>Ben</td>\n",
       "      <td>24</td>\n",
       "      <td>C</td>\n",
       "    </tr>\n",
       "    <tr>\n",
       "      <th>3</th>\n",
       "      <td>255533333</td>\n",
       "      <td>BINENE</td>\n",
       "      <td>Felly</td>\n",
       "      <td>23</td>\n",
       "      <td>D</td>\n",
       "    </tr>\n",
       "    <tr>\n",
       "      <th>4</th>\n",
       "      <td>255566666</td>\n",
       "      <td>TSHIENSE</td>\n",
       "      <td>Chris</td>\n",
       "      <td>20</td>\n",
       "      <td>E</td>\n",
       "    </tr>\n",
       "  </tbody>\n",
       "</table>\n",
       "</div>"
      ],
      "text/plain": [
       "     matricule       Nom     Prenom  Age GPA\n",
       "0    202205533     NKULU  Dieumerci   22   A\n",
       "1    255222001    KABOLE      David   21   B\n",
       "2  23122522511    MUKUNA        Ben   24   C\n",
       "3    255533333    BINENE      Felly   23   D\n",
       "4    255566666  TSHIENSE      Chris   20   E"
      ]
     },
     "execution_count": 16,
     "metadata": {},
     "output_type": "execute_result"
    }
   ],
   "source": [
    "donnees_etudiants"
   ]
  },
  {
   "cell_type": "code",
   "execution_count": 17,
   "id": "7d18a9f2-8c4d-4a54-95e3-9b088677c367",
   "metadata": {},
   "outputs": [
    {
     "data": {
      "text/html": [
       "<div>\n",
       "<style scoped>\n",
       "    .dataframe tbody tr th:only-of-type {\n",
       "        vertical-align: middle;\n",
       "    }\n",
       "\n",
       "    .dataframe tbody tr th {\n",
       "        vertical-align: top;\n",
       "    }\n",
       "\n",
       "    .dataframe thead th {\n",
       "        text-align: right;\n",
       "    }\n",
       "</style>\n",
       "<table border=\"1\" class=\"dataframe\">\n",
       "  <thead>\n",
       "    <tr style=\"text-align: right;\">\n",
       "      <th></th>\n",
       "      <th>matricule</th>\n",
       "      <th>Nom</th>\n",
       "      <th>Prenom</th>\n",
       "      <th>Age</th>\n",
       "      <th>GPA</th>\n",
       "    </tr>\n",
       "  </thead>\n",
       "  <tbody>\n",
       "    <tr>\n",
       "      <th>0</th>\n",
       "      <td>202205533</td>\n",
       "      <td>NKULU</td>\n",
       "      <td>Dieumerci</td>\n",
       "      <td>22</td>\n",
       "      <td>A</td>\n",
       "    </tr>\n",
       "    <tr>\n",
       "      <th>1</th>\n",
       "      <td>255222001</td>\n",
       "      <td>KABOLE</td>\n",
       "      <td>David</td>\n",
       "      <td>21</td>\n",
       "      <td>B</td>\n",
       "    </tr>\n",
       "    <tr>\n",
       "      <th>2</th>\n",
       "      <td>23122522511</td>\n",
       "      <td>MUKUNA</td>\n",
       "      <td>Ben</td>\n",
       "      <td>24</td>\n",
       "      <td>C</td>\n",
       "    </tr>\n",
       "    <tr>\n",
       "      <th>3</th>\n",
       "      <td>255533333</td>\n",
       "      <td>BINENE</td>\n",
       "      <td>Felly</td>\n",
       "      <td>23</td>\n",
       "      <td>D</td>\n",
       "    </tr>\n",
       "  </tbody>\n",
       "</table>\n",
       "</div>"
      ],
      "text/plain": [
       "     matricule     Nom     Prenom  Age GPA\n",
       "0    202205533   NKULU  Dieumerci   22   A\n",
       "1    255222001  KABOLE      David   21   B\n",
       "2  23122522511  MUKUNA        Ben   24   C\n",
       "3    255533333  BINENE      Felly   23   D"
      ]
     },
     "execution_count": 17,
     "metadata": {},
     "output_type": "execute_result"
    }
   ],
   "source": [
    "donnees_etudiants.head(4)"
   ]
  },
  {
   "cell_type": "code",
   "execution_count": 18,
   "id": "11904ef5-5bc3-4fbf-ab24-47975be25da0",
   "metadata": {},
   "outputs": [
    {
     "data": {
      "text/html": [
       "<div>\n",
       "<style scoped>\n",
       "    .dataframe tbody tr th:only-of-type {\n",
       "        vertical-align: middle;\n",
       "    }\n",
       "\n",
       "    .dataframe tbody tr th {\n",
       "        vertical-align: top;\n",
       "    }\n",
       "\n",
       "    .dataframe thead th {\n",
       "        text-align: right;\n",
       "    }\n",
       "</style>\n",
       "<table border=\"1\" class=\"dataframe\">\n",
       "  <thead>\n",
       "    <tr style=\"text-align: right;\">\n",
       "      <th></th>\n",
       "      <th>matricule</th>\n",
       "      <th>Nom</th>\n",
       "      <th>Prenom</th>\n",
       "      <th>Age</th>\n",
       "      <th>GPA</th>\n",
       "    </tr>\n",
       "  </thead>\n",
       "  <tbody>\n",
       "    <tr>\n",
       "      <th>3</th>\n",
       "      <td>255533333</td>\n",
       "      <td>BINENE</td>\n",
       "      <td>Felly</td>\n",
       "      <td>23</td>\n",
       "      <td>D</td>\n",
       "    </tr>\n",
       "    <tr>\n",
       "      <th>4</th>\n",
       "      <td>255566666</td>\n",
       "      <td>TSHIENSE</td>\n",
       "      <td>Chris</td>\n",
       "      <td>20</td>\n",
       "      <td>E</td>\n",
       "    </tr>\n",
       "  </tbody>\n",
       "</table>\n",
       "</div>"
      ],
      "text/plain": [
       "   matricule       Nom Prenom  Age GPA\n",
       "3  255533333    BINENE  Felly   23   D\n",
       "4  255566666  TSHIENSE  Chris   20   E"
      ]
     },
     "execution_count": 18,
     "metadata": {},
     "output_type": "execute_result"
    }
   ],
   "source": [
    "donnees_etudiants.tail(2)"
   ]
  },
  {
   "cell_type": "code",
   "execution_count": 19,
   "id": "8a57ea04-7208-4991-98a7-5360eebc9f30",
   "metadata": {},
   "outputs": [
    {
     "name": "stdout",
     "output_type": "stream",
     "text": [
      "     matricule       Nom     Prenom  Age GPA\n",
      "0    202205533     NKULU  Dieumerci   22   A\n",
      "1    255222001    KABOLE      David   21   B\n",
      "2  23122522511    MUKUNA        Ben   24   C\n",
      "3    255533333    BINENE      Felly   23   D\n",
      "4    255566666  TSHIENSE      Chris   20   E\n"
     ]
    }
   ],
   "source": [
    "print(donnees_etudiants)"
   ]
  },
  {
   "cell_type": "code",
   "execution_count": 24,
   "id": "f9581058-a2cc-4324-b2ac-b72ac248ef65",
   "metadata": {},
   "outputs": [
    {
     "data": {
      "text/plain": [
       "0      202205533\n",
       "1      255222001\n",
       "2    23122522511\n",
       "3      255533333\n",
       "4      255566666\n",
       "Name: matricule, dtype: object"
      ]
     },
     "execution_count": 24,
     "metadata": {},
     "output_type": "execute_result"
    }
   ],
   "source": [
    "donnees_etudiants['matricule']"
   ]
  },
  {
   "cell_type": "code",
   "execution_count": 25,
   "id": "a51375e7-1857-42d2-bdf6-d9978c123f0b",
   "metadata": {},
   "outputs": [
    {
     "data": {
      "text/html": [
       "<div>\n",
       "<style scoped>\n",
       "    .dataframe tbody tr th:only-of-type {\n",
       "        vertical-align: middle;\n",
       "    }\n",
       "\n",
       "    .dataframe tbody tr th {\n",
       "        vertical-align: top;\n",
       "    }\n",
       "\n",
       "    .dataframe thead th {\n",
       "        text-align: right;\n",
       "    }\n",
       "</style>\n",
       "<table border=\"1\" class=\"dataframe\">\n",
       "  <thead>\n",
       "    <tr style=\"text-align: right;\">\n",
       "      <th></th>\n",
       "      <th>matricule</th>\n",
       "      <th>Nom</th>\n",
       "    </tr>\n",
       "  </thead>\n",
       "  <tbody>\n",
       "    <tr>\n",
       "      <th>0</th>\n",
       "      <td>202205533</td>\n",
       "      <td>NKULU</td>\n",
       "    </tr>\n",
       "    <tr>\n",
       "      <th>1</th>\n",
       "      <td>255222001</td>\n",
       "      <td>KABOLE</td>\n",
       "    </tr>\n",
       "    <tr>\n",
       "      <th>2</th>\n",
       "      <td>23122522511</td>\n",
       "      <td>MUKUNA</td>\n",
       "    </tr>\n",
       "    <tr>\n",
       "      <th>3</th>\n",
       "      <td>255533333</td>\n",
       "      <td>BINENE</td>\n",
       "    </tr>\n",
       "    <tr>\n",
       "      <th>4</th>\n",
       "      <td>255566666</td>\n",
       "      <td>TSHIENSE</td>\n",
       "    </tr>\n",
       "  </tbody>\n",
       "</table>\n",
       "</div>"
      ],
      "text/plain": [
       "     matricule       Nom\n",
       "0    202205533     NKULU\n",
       "1    255222001    KABOLE\n",
       "2  23122522511    MUKUNA\n",
       "3    255533333    BINENE\n",
       "4    255566666  TSHIENSE"
      ]
     },
     "execution_count": 25,
     "metadata": {},
     "output_type": "execute_result"
    }
   ],
   "source": [
    "donnees_etudiants[['matricule','Nom']]"
   ]
  },
  {
   "cell_type": "code",
   "execution_count": 26,
   "id": "b8bd52dc-0014-45c2-8f53-805dfcb2d81d",
   "metadata": {},
   "outputs": [
    {
     "data": {
      "text/html": [
       "<div>\n",
       "<style scoped>\n",
       "    .dataframe tbody tr th:only-of-type {\n",
       "        vertical-align: middle;\n",
       "    }\n",
       "\n",
       "    .dataframe tbody tr th {\n",
       "        vertical-align: top;\n",
       "    }\n",
       "\n",
       "    .dataframe thead th {\n",
       "        text-align: right;\n",
       "    }\n",
       "</style>\n",
       "<table border=\"1\" class=\"dataframe\">\n",
       "  <thead>\n",
       "    <tr style=\"text-align: right;\">\n",
       "      <th></th>\n",
       "      <th>matricule</th>\n",
       "      <th>Nom</th>\n",
       "      <th>Prenom</th>\n",
       "      <th>Age</th>\n",
       "      <th>GPA</th>\n",
       "    </tr>\n",
       "  </thead>\n",
       "  <tbody>\n",
       "    <tr>\n",
       "      <th>0</th>\n",
       "      <td>202205533</td>\n",
       "      <td>NKULU</td>\n",
       "      <td>Dieumerci</td>\n",
       "      <td>22</td>\n",
       "      <td>A</td>\n",
       "    </tr>\n",
       "    <tr>\n",
       "      <th>1</th>\n",
       "      <td>255222001</td>\n",
       "      <td>KABOLE</td>\n",
       "      <td>David</td>\n",
       "      <td>21</td>\n",
       "      <td>B</td>\n",
       "    </tr>\n",
       "    <tr>\n",
       "      <th>2</th>\n",
       "      <td>23122522511</td>\n",
       "      <td>MUKUNA</td>\n",
       "      <td>Ben</td>\n",
       "      <td>24</td>\n",
       "      <td>C</td>\n",
       "    </tr>\n",
       "    <tr>\n",
       "      <th>3</th>\n",
       "      <td>255533333</td>\n",
       "      <td>BINENE</td>\n",
       "      <td>Felly</td>\n",
       "      <td>23</td>\n",
       "      <td>D</td>\n",
       "    </tr>\n",
       "    <tr>\n",
       "      <th>4</th>\n",
       "      <td>255566666</td>\n",
       "      <td>TSHIENSE</td>\n",
       "      <td>Chris</td>\n",
       "      <td>20</td>\n",
       "      <td>E</td>\n",
       "    </tr>\n",
       "  </tbody>\n",
       "</table>\n",
       "</div>"
      ],
      "text/plain": [
       "     matricule       Nom     Prenom  Age GPA\n",
       "0    202205533     NKULU  Dieumerci   22   A\n",
       "1    255222001    KABOLE      David   21   B\n",
       "2  23122522511    MUKUNA        Ben   24   C\n",
       "3    255533333    BINENE      Felly   23   D\n",
       "4    255566666  TSHIENSE      Chris   20   E"
      ]
     },
     "execution_count": 26,
     "metadata": {},
     "output_type": "execute_result"
    }
   ],
   "source": [
    "donnees_etudiants.iloc[:,:]"
   ]
  },
  {
   "cell_type": "code",
   "execution_count": 31,
   "id": "56979ada-721b-4030-b74e-648e633840ed",
   "metadata": {},
   "outputs": [
    {
     "data": {
      "text/html": [
       "<div>\n",
       "<style scoped>\n",
       "    .dataframe tbody tr th:only-of-type {\n",
       "        vertical-align: middle;\n",
       "    }\n",
       "\n",
       "    .dataframe tbody tr th {\n",
       "        vertical-align: top;\n",
       "    }\n",
       "\n",
       "    .dataframe thead th {\n",
       "        text-align: right;\n",
       "    }\n",
       "</style>\n",
       "<table border=\"1\" class=\"dataframe\">\n",
       "  <thead>\n",
       "    <tr style=\"text-align: right;\">\n",
       "      <th></th>\n",
       "      <th>matricule</th>\n",
       "      <th>Nom</th>\n",
       "      <th>Prenom</th>\n",
       "      <th>Age</th>\n",
       "      <th>GPA</th>\n",
       "    </tr>\n",
       "  </thead>\n",
       "  <tbody>\n",
       "    <tr>\n",
       "      <th>2</th>\n",
       "      <td>23122522511</td>\n",
       "      <td>MUKUNA</td>\n",
       "      <td>Ben</td>\n",
       "      <td>24</td>\n",
       "      <td>C</td>\n",
       "    </tr>\n",
       "  </tbody>\n",
       "</table>\n",
       "</div>"
      ],
      "text/plain": [
       "     matricule     Nom Prenom  Age GPA\n",
       "2  23122522511  MUKUNA    Ben   24   C"
      ]
     },
     "execution_count": 31,
     "metadata": {},
     "output_type": "execute_result"
    }
   ],
   "source": [
    "donnees_etudiants.iloc[ 2:3,:]"
   ]
  },
  {
   "cell_type": "code",
   "execution_count": 28,
   "id": "3ce95d6e-fb32-448c-97b6-dfc9616a27d7",
   "metadata": {},
   "outputs": [
    {
     "data": {
      "text/html": [
       "<div>\n",
       "<style scoped>\n",
       "    .dataframe tbody tr th:only-of-type {\n",
       "        vertical-align: middle;\n",
       "    }\n",
       "\n",
       "    .dataframe tbody tr th {\n",
       "        vertical-align: top;\n",
       "    }\n",
       "\n",
       "    .dataframe thead th {\n",
       "        text-align: right;\n",
       "    }\n",
       "</style>\n",
       "<table border=\"1\" class=\"dataframe\">\n",
       "  <thead>\n",
       "    <tr style=\"text-align: right;\">\n",
       "      <th></th>\n",
       "      <th>Age</th>\n",
       "    </tr>\n",
       "  </thead>\n",
       "  <tbody>\n",
       "    <tr>\n",
       "      <th>0</th>\n",
       "      <td>22</td>\n",
       "    </tr>\n",
       "    <tr>\n",
       "      <th>1</th>\n",
       "      <td>21</td>\n",
       "    </tr>\n",
       "    <tr>\n",
       "      <th>2</th>\n",
       "      <td>24</td>\n",
       "    </tr>\n",
       "    <tr>\n",
       "      <th>3</th>\n",
       "      <td>23</td>\n",
       "    </tr>\n",
       "    <tr>\n",
       "      <th>4</th>\n",
       "      <td>20</td>\n",
       "    </tr>\n",
       "  </tbody>\n",
       "</table>\n",
       "</div>"
      ],
      "text/plain": [
       "   Age\n",
       "0   22\n",
       "1   21\n",
       "2   24\n",
       "3   23\n",
       "4   20"
      ]
     },
     "execution_count": 28,
     "metadata": {},
     "output_type": "execute_result"
    }
   ],
   "source": [
    "#Afficher seulement la colonne age \n",
    "donnees_etudiants.iloc[ :,3:4 ]"
   ]
  },
  {
   "cell_type": "code",
   "execution_count": 32,
   "id": "2da9a9f0-b109-4e75-9378-dc7491c00863",
   "metadata": {},
   "outputs": [
    {
     "data": {
      "text/html": [
       "<div>\n",
       "<style scoped>\n",
       "    .dataframe tbody tr th:only-of-type {\n",
       "        vertical-align: middle;\n",
       "    }\n",
       "\n",
       "    .dataframe tbody tr th {\n",
       "        vertical-align: top;\n",
       "    }\n",
       "\n",
       "    .dataframe thead th {\n",
       "        text-align: right;\n",
       "    }\n",
       "</style>\n",
       "<table border=\"1\" class=\"dataframe\">\n",
       "  <thead>\n",
       "    <tr style=\"text-align: right;\">\n",
       "      <th></th>\n",
       "      <th>Nom</th>\n",
       "    </tr>\n",
       "  </thead>\n",
       "  <tbody>\n",
       "    <tr>\n",
       "      <th>1</th>\n",
       "      <td>KABOLE</td>\n",
       "    </tr>\n",
       "  </tbody>\n",
       "</table>\n",
       "</div>"
      ],
      "text/plain": [
       "      Nom\n",
       "1  KABOLE"
      ]
     },
     "execution_count": 32,
     "metadata": {},
     "output_type": "execute_result"
    }
   ],
   "source": [
    "donnees_etudiants.iloc[1:2,1:2]"
   ]
  },
  {
   "cell_type": "code",
   "execution_count": null,
   "id": "fbcc70af-18e9-4da8-8cdd-5ab8b22291d3",
   "metadata": {},
   "outputs": [],
   "source": []
  }
 ],
 "metadata": {
  "kernelspec": {
   "display_name": "Python 3 (ipykernel)",
   "language": "python",
   "name": "python3"
  },
  "language_info": {
   "codemirror_mode": {
    "name": "ipython",
    "version": 3
   },
   "file_extension": ".py",
   "mimetype": "text/x-python",
   "name": "python",
   "nbconvert_exporter": "python",
   "pygments_lexer": "ipython3",
   "version": "3.10.16"
  }
 },
 "nbformat": 4,
 "nbformat_minor": 5
}
